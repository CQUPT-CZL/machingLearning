{
 "cells": [
  {
   "cell_type": "code",
   "execution_count": 1,
   "metadata": {
    "ExecuteTime": {
     "end_time": "2023-08-12T13:57:43.722401600Z",
     "start_time": "2023-08-12T13:57:43.174193200Z"
    }
   },
   "outputs": [],
   "source": [
    "import pandas as pd\n",
    "from tqdm import tqdm"
   ]
  },
  {
   "cell_type": "code",
   "execution_count": 2,
   "metadata": {
    "ExecuteTime": {
     "end_time": "2023-08-12T13:57:43.738015Z",
     "start_time": "2023-08-12T13:57:43.722401600Z"
    }
   },
   "outputs": [],
   "source": [
    "def ms_trans_hour(x):\n",
    "    cur = int(x) // 1000 // 60 // 60\n",
    "    return str(cur)"
   ]
  },
  {
   "cell_type": "code",
   "execution_count": 3,
   "metadata": {
    "ExecuteTime": {
     "end_time": "2023-08-12T13:57:43.753643800Z",
     "start_time": "2023-08-12T13:57:43.738015Z"
    }
   },
   "outputs": [],
   "source": [
    "def str_trans_map(x):\n",
    "    map = {}\n",
    "\n",
    "    if x == 'unknown' or len(x) == 0:\n",
    "        return map\n",
    "    x = x[1 : -1]\n",
    "    curs = x.split(',')\n",
    "    for i in curs:\n",
    "        j = i.split(':')\n",
    "        if len(j) < 2:\n",
    "            continue\n",
    "        j[0] = j[0][1 : -1]\n",
    "        j[1] = j[1][1 : -1]\n",
    "        map[j[0]] = j[1]\n",
    "    return map"
   ]
  },
  {
   "cell_type": "code",
   "execution_count": 4,
   "metadata": {
    "ExecuteTime": {
     "end_time": "2023-08-12T13:57:43.795346400Z",
     "start_time": "2023-08-12T13:57:43.753643800Z"
    }
   },
   "outputs": [],
   "source": [
    "def trans_keys(data):\n",
    "    data['udmap'] = data['udmap'].astype(str)\n",
    "    for i in tqdm(range(0, data.shape[0])):\n",
    "        cur_str = data.loc[i, 'udmap']\n",
    "        # print(type(cur_str))\n",
    "        cur_map = str_trans_map(cur_str)\n",
    "        for j in cur_map.keys():\n",
    "            data.loc[i, j] = cur_map[j]"
   ]
  },
  {
   "cell_type": "code",
   "execution_count": 5,
   "metadata": {
    "ExecuteTime": {
     "end_time": "2023-08-12T13:57:43.810971600Z",
     "start_time": "2023-08-12T13:57:43.795346400Z"
    }
   },
   "outputs": [],
   "source": [
    "def preprocess(data):\n",
    "\n",
    "    # n_train = train.shape[0]\n",
    "    # data = pd.concat([train, test])\n",
    "\n",
    "    # 时间化为小时\n",
    "    # data['common_hour'] = data['common_ts'].apply(lambda x : ms_trans_hour(x))\n",
    "    # del data['common_ts']\n",
    "\n",
    "    # 字典转化\n",
    "    data['udmap'] = data['udmap'].astype(str)\n",
    "    keys = ['key' + str(i) for i in range(1, 10)]\n",
    "    for key in keys:\n",
    "        data[key] = 0\n",
    "\n",
    "    trans_keys(data)\n",
    "    del data['udmap']\n",
    "\n",
    "    #自然数编码\n",
    "    # for f in ['common_hour']:\n",
    "    #     data[f] = data[f].map(dict(zip(data[f].unique(), range(0, data[f].nunique()))))\n",
    "    \n",
    "    return data\n"
   ]
  },
  {
   "cell_type": "code",
   "execution_count": 6,
   "metadata": {
    "ExecuteTime": {
     "end_time": "2023-08-12T13:57:44.605601500Z",
     "start_time": "2023-08-12T13:57:43.810971600Z"
    }
   },
   "outputs": [],
   "source": [
    "path = 'D:\\Code\\Python\\PythonLearning\\用户新增预测挑战赛\\input\\\\'\n",
    "train = pd.read_csv(path + 'train.csv')\n",
    "test = pd.read_csv(path + 'test.csv')"
   ]
  },
  {
   "cell_type": "code",
   "execution_count": 7,
   "metadata": {
    "ExecuteTime": {
     "end_time": "2023-08-12T13:58:53.294849700Z",
     "start_time": "2023-08-12T13:57:44.605601500Z"
    }
   },
   "outputs": [
    {
     "name": "stderr",
     "output_type": "stream",
     "text": [
      "100%|██████████| 620356/620356 [01:08<00:00, 9046.10it/s]\n"
     ]
    }
   ],
   "source": [
    "new_train = preprocess(train)\n"
   ]
  },
  {
   "cell_type": "code",
   "execution_count": 8,
   "metadata": {
    "ExecuteTime": {
     "end_time": "2023-08-12T13:59:16.586454600Z",
     "start_time": "2023-08-12T13:58:53.294849700Z"
    }
   },
   "outputs": [
    {
     "name": "stderr",
     "output_type": "stream",
     "text": [
      "100%|██████████| 206785/206785 [00:23<00:00, 8891.19it/s]\n"
     ]
    }
   ],
   "source": [
    "new_test = preprocess(test)"
   ]
  },
  {
   "cell_type": "code",
   "execution_count": 15,
   "metadata": {
    "ExecuteTime": {
     "end_time": "2023-08-12T14:03:18.769935400Z",
     "start_time": "2023-08-12T14:03:18.647925400Z"
    }
   },
   "outputs": [
    {
     "data": {
      "text/plain": "uuid         206785\neid              41\ncommon_ts    203225\nx1                5\nx2                4\nx3               53\nx4              110\nx5              393\nx6                5\nx7               10\nx8                2\nkey1           1095\nkey2           1211\nkey3          31238\nkey4             21\nkey5             21\nkey6            683\nkey7              5\nkey8              4\nkey9              6\ndtype: int64"
     },
     "execution_count": 15,
     "metadata": {},
     "output_type": "execute_result"
    }
   ],
   "source": [
    "new_test.nunique()"
   ]
  },
  {
   "cell_type": "code",
   "execution_count": 10,
   "metadata": {
    "ExecuteTime": {
     "end_time": "2023-08-12T13:59:16.631656400Z",
     "start_time": "2023-08-12T13:59:16.615747200Z"
    }
   },
   "outputs": [],
   "source": [
    "# del new_train['common_ts']\n",
    "# del new_test['common_ts']"
   ]
  },
  {
   "cell_type": "code",
   "execution_count": 11,
   "metadata": {
    "ExecuteTime": {
     "end_time": "2023-08-12T13:59:17.524059100Z",
     "start_time": "2023-08-12T13:59:16.631656400Z"
    }
   },
   "outputs": [
    {
     "data": {
      "text/plain": "uuid         0\neid          0\ncommon_ts    0\nx1           0\nx2           0\nx3           0\nx4           0\nx5           0\nx6           0\nx7           0\nx8           0\ntarget       0\nkey1         0\nkey2         0\nkey3         0\nkey4         0\nkey5         0\nkey6         0\nkey7         0\nkey8         0\nkey9         0\ndtype: int64"
     },
     "execution_count": 11,
     "metadata": {},
     "output_type": "execute_result"
    }
   ],
   "source": [
    "new_train.isnull().sum()"
   ]
  },
  {
   "cell_type": "code",
   "execution_count": 16,
   "outputs": [
    {
     "data": {
      "text/plain": "   uuid  eid      common_ts  x1  x2  x3   x4   x5  x6  x7  x8 key1 key2  \\\n0     0   11  1689594441029   4   1  41   85  343   4   8   1    0    0   \n1     1   35  1689551329947   4   0  41   24  283   1   6   1    0    0   \n2     2   34  1688965066999   4   2  41   71  288   4   2   0    0  936   \n3     3    0  1689308623754   1   0  41  104   37   4   8   1    0    0   \n4     4   26  1689516018904   0   1  41  115  217   4   8   1    0  650   \n\n    key3 key4 key5 key6 key7 key8 key9  \n0      0    0    0    0    0    0    0  \n1      0    0    0    0    0    0    0  \n2  73457    0    0    0    0    0    0  \n3  18771    0    0    0    0    0    0  \n4  67804    0    0    0    0    0    0  ",
      "text/html": "<div>\n<style scoped>\n    .dataframe tbody tr th:only-of-type {\n        vertical-align: middle;\n    }\n\n    .dataframe tbody tr th {\n        vertical-align: top;\n    }\n\n    .dataframe thead th {\n        text-align: right;\n    }\n</style>\n<table border=\"1\" class=\"dataframe\">\n  <thead>\n    <tr style=\"text-align: right;\">\n      <th></th>\n      <th>uuid</th>\n      <th>eid</th>\n      <th>common_ts</th>\n      <th>x1</th>\n      <th>x2</th>\n      <th>x3</th>\n      <th>x4</th>\n      <th>x5</th>\n      <th>x6</th>\n      <th>x7</th>\n      <th>x8</th>\n      <th>key1</th>\n      <th>key2</th>\n      <th>key3</th>\n      <th>key4</th>\n      <th>key5</th>\n      <th>key6</th>\n      <th>key7</th>\n      <th>key8</th>\n      <th>key9</th>\n    </tr>\n  </thead>\n  <tbody>\n    <tr>\n      <th>0</th>\n      <td>0</td>\n      <td>11</td>\n      <td>1689594441029</td>\n      <td>4</td>\n      <td>1</td>\n      <td>41</td>\n      <td>85</td>\n      <td>343</td>\n      <td>4</td>\n      <td>8</td>\n      <td>1</td>\n      <td>0</td>\n      <td>0</td>\n      <td>0</td>\n      <td>0</td>\n      <td>0</td>\n      <td>0</td>\n      <td>0</td>\n      <td>0</td>\n      <td>0</td>\n    </tr>\n    <tr>\n      <th>1</th>\n      <td>1</td>\n      <td>35</td>\n      <td>1689551329947</td>\n      <td>4</td>\n      <td>0</td>\n      <td>41</td>\n      <td>24</td>\n      <td>283</td>\n      <td>1</td>\n      <td>6</td>\n      <td>1</td>\n      <td>0</td>\n      <td>0</td>\n      <td>0</td>\n      <td>0</td>\n      <td>0</td>\n      <td>0</td>\n      <td>0</td>\n      <td>0</td>\n      <td>0</td>\n    </tr>\n    <tr>\n      <th>2</th>\n      <td>2</td>\n      <td>34</td>\n      <td>1688965066999</td>\n      <td>4</td>\n      <td>2</td>\n      <td>41</td>\n      <td>71</td>\n      <td>288</td>\n      <td>4</td>\n      <td>2</td>\n      <td>0</td>\n      <td>0</td>\n      <td>936</td>\n      <td>73457</td>\n      <td>0</td>\n      <td>0</td>\n      <td>0</td>\n      <td>0</td>\n      <td>0</td>\n      <td>0</td>\n    </tr>\n    <tr>\n      <th>3</th>\n      <td>3</td>\n      <td>0</td>\n      <td>1689308623754</td>\n      <td>1</td>\n      <td>0</td>\n      <td>41</td>\n      <td>104</td>\n      <td>37</td>\n      <td>4</td>\n      <td>8</td>\n      <td>1</td>\n      <td>0</td>\n      <td>0</td>\n      <td>18771</td>\n      <td>0</td>\n      <td>0</td>\n      <td>0</td>\n      <td>0</td>\n      <td>0</td>\n      <td>0</td>\n    </tr>\n    <tr>\n      <th>4</th>\n      <td>4</td>\n      <td>26</td>\n      <td>1689516018904</td>\n      <td>0</td>\n      <td>1</td>\n      <td>41</td>\n      <td>115</td>\n      <td>217</td>\n      <td>4</td>\n      <td>8</td>\n      <td>1</td>\n      <td>0</td>\n      <td>650</td>\n      <td>67804</td>\n      <td>0</td>\n      <td>0</td>\n      <td>0</td>\n      <td>0</td>\n      <td>0</td>\n      <td>0</td>\n    </tr>\n  </tbody>\n</table>\n</div>"
     },
     "execution_count": 16,
     "metadata": {},
     "output_type": "execute_result"
    }
   ],
   "source": [
    "new_test.head()"
   ],
   "metadata": {
    "collapsed": false,
    "ExecuteTime": {
     "end_time": "2023-08-12T14:05:01.215216200Z",
     "start_time": "2023-08-12T14:05:01.199588400Z"
    }
   }
  },
  {
   "cell_type": "code",
   "execution_count": 12,
   "metadata": {
    "ExecuteTime": {
     "end_time": "2023-08-12T13:59:17.861191900Z",
     "start_time": "2023-08-12T13:59:17.524059100Z"
    }
   },
   "outputs": [
    {
     "data": {
      "text/plain": "uuid         0\neid          0\ncommon_ts    0\nx1           0\nx2           0\nx3           0\nx4           0\nx5           0\nx6           0\nx7           0\nx8           0\nkey1         0\nkey2         0\nkey3         0\nkey4         0\nkey5         0\nkey6         0\nkey7         0\nkey8         0\nkey9         0\ndtype: int64"
     },
     "execution_count": 12,
     "metadata": {},
     "output_type": "execute_result"
    }
   ],
   "source": [
    "new_test.isnull().sum()"
   ]
  },
  {
   "cell_type": "code",
   "execution_count": 17,
   "metadata": {
    "ExecuteTime": {
     "end_time": "2023-08-12T14:05:13.799050800Z",
     "start_time": "2023-08-12T14:05:10.536078200Z"
    }
   },
   "outputs": [],
   "source": [
    "new_train.to_csv('input/new_train.csv', index = False)"
   ]
  },
  {
   "cell_type": "code",
   "execution_count": 18,
   "metadata": {
    "ExecuteTime": {
     "end_time": "2023-08-12T14:05:15.691113600Z",
     "start_time": "2023-08-12T14:05:14.467747400Z"
    }
   },
   "outputs": [],
   "source": [
    "new_test.to_csv('input/new_test.csv', index = False)"
   ]
  },
  {
   "cell_type": "code",
   "execution_count": 14,
   "metadata": {
    "ExecuteTime": {
     "end_time": "2023-08-12T13:59:23.988470Z",
     "start_time": "2023-08-12T13:59:23.973043600Z"
    }
   },
   "outputs": [],
   "source": []
  }
 ],
 "metadata": {
  "kernelspec": {
   "display_name": "base",
   "language": "python",
   "name": "python3"
  },
  "language_info": {
   "codemirror_mode": {
    "name": "ipython",
    "version": 3
   },
   "file_extension": ".py",
   "mimetype": "text/x-python",
   "name": "python",
   "nbconvert_exporter": "python",
   "pygments_lexer": "ipython3",
   "version": "3.10.9"
  },
  "orig_nbformat": 4
 },
 "nbformat": 4,
 "nbformat_minor": 2
}
