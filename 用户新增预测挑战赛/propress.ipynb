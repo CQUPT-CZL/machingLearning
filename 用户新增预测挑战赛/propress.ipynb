{
 "cells": [
  {
   "cell_type": "code",
   "execution_count": 1,
   "metadata": {
    "ExecuteTime": {
     "end_time": "2023-08-18T10:42:31.191978500Z",
     "start_time": "2023-08-18T10:42:30.339283100Z"
    }
   },
   "outputs": [],
   "source": [
    "import pandas as pd\n",
    "from tqdm import tqdm"
   ]
  },
  {
   "cell_type": "code",
   "execution_count": 2,
   "metadata": {
    "ExecuteTime": {
     "end_time": "2023-08-18T10:42:31.206942400Z",
     "start_time": "2023-08-18T10:42:31.198961300Z"
    }
   },
   "outputs": [],
   "source": [
    "def str_trans_map(x):\n",
    "    map = {}\n",
    "\n",
    "    if x == 'unknown' or len(x) == 0:\n",
    "        return map\n",
    "    x = x[1 : -1]\n",
    "    curs = x.split(',')\n",
    "    for i in curs:\n",
    "        j = i.split(':')\n",
    "        if len(j) < 2:\n",
    "            continue\n",
    "        j[0] = j[0][1 : -1]\n",
    "        j[1] = j[1][1 : -1]\n",
    "        map[j[0]] = j[1]\n",
    "    return map"
   ]
  },
  {
   "cell_type": "code",
   "execution_count": 3,
   "metadata": {
    "ExecuteTime": {
     "end_time": "2023-08-18T10:42:31.236859300Z",
     "start_time": "2023-08-18T10:42:31.212923400Z"
    }
   },
   "outputs": [],
   "source": [
    "def trans_keys(data):\n",
    "    data['udmap'] = data['udmap'].astype(str)\n",
    "    for i in tqdm(range(0, data.shape[0])):\n",
    "        cur_str = data.loc[i, 'udmap']\n",
    "        cur_map = str_trans_map(cur_str)\n",
    "        for j in cur_map.keys():\n",
    "            data.loc[i, j] = cur_map[j]"
   ]
  },
  {
   "cell_type": "code",
   "execution_count": 4,
   "metadata": {
    "ExecuteTime": {
     "end_time": "2023-08-18T10:42:31.237856900Z",
     "start_time": "2023-08-18T10:42:31.231872500Z"
    }
   },
   "outputs": [],
   "source": [
    "def preprocess(data):\n",
    "\n",
    "\n",
    "    # 字典转化\n",
    "    data['udmap'] = data['udmap'].astype(str)\n",
    "    keys = ['key' + str(i) for i in range(1, 10)]\n",
    "    for key in keys:\n",
    "        data[key] = 0\n",
    "\n",
    "    trans_keys(data)\n",
    "    \n",
    "    data['common_ts_datatime'] = pd.to_datetime(train['common_ts'], unit='ms')\n",
    "    data['day'] = data['common_ts_datatime'].dt.day\n",
    "    data['weekday'] =  data['common_ts_datatime'].dt.weekday\n",
    "    data['hour'] = data['common_ts_datatime'].dt.hour\n",
    "    data['is_unknown'] = (data['udmap'] == 'unknown').astype(int)\n",
    "    \n",
    "\n",
    "    return data\n"
   ]
  },
  {
   "cell_type": "code",
   "execution_count": 5,
   "metadata": {
    "ExecuteTime": {
     "end_time": "2023-08-18T10:42:32.114992100Z",
     "start_time": "2023-08-18T10:42:31.239852700Z"
    }
   },
   "outputs": [],
   "source": [
    "path = 'D:\\Code\\Python\\PythonLearning\\用户新增预测挑战赛\\input\\\\'\n",
    "train = pd.read_csv(path + 'train.csv')\n",
    "test = pd.read_csv(path + 'test.csv')"
   ]
  },
  {
   "cell_type": "code",
   "execution_count": 6,
   "metadata": {
    "ExecuteTime": {
     "end_time": "2023-08-18T10:43:51.902117Z",
     "start_time": "2023-08-18T10:42:32.116988700Z"
    }
   },
   "outputs": [
    {
     "name": "stderr",
     "output_type": "stream",
     "text": [
      "100%|██████████| 620356/620356 [01:19<00:00, 7804.34it/s]\n"
     ]
    }
   ],
   "source": [
    "new_train = preprocess(train)"
   ]
  },
  {
   "cell_type": "code",
   "execution_count": 7,
   "metadata": {
    "ExecuteTime": {
     "end_time": "2023-08-18T10:44:17.819346600Z",
     "start_time": "2023-08-18T10:43:51.904099300Z"
    }
   },
   "outputs": [
    {
     "name": "stderr",
     "output_type": "stream",
     "text": [
      "100%|██████████| 206785/206785 [00:25<00:00, 8018.16it/s]\n"
     ]
    }
   ],
   "source": [
    "new_test = preprocess(test)"
   ]
  },
  {
   "cell_type": "code",
   "execution_count": 8,
   "metadata": {
    "ExecuteTime": {
     "end_time": "2023-08-18T10:44:17.990920600Z",
     "start_time": "2023-08-18T10:44:17.820343600Z"
    }
   },
   "outputs": [
    {
     "data": {
      "text/plain": "uuid                  206785\neid                       41\nudmap                  34908\ncommon_ts             203225\nx1                         5\nx2                         4\nx3                        53\nx4                       110\nx5                       393\nx6                         5\nx7                        10\nx8                         2\nkey1                    1095\nkey2                    1211\nkey3                   31238\nkey4                      21\nkey5                      21\nkey6                     683\nkey7                       5\nkey8                       4\nkey9                       6\ncommon_ts_datatime    203174\nday                       16\nweekday                    7\nhour                      24\nis_unknown                 2\ndtype: int64"
     },
     "execution_count": 8,
     "metadata": {},
     "output_type": "execute_result"
    }
   ],
   "source": [
    "new_test.nunique()"
   ]
  },
  {
   "cell_type": "code",
   "execution_count": 9,
   "metadata": {
    "ExecuteTime": {
     "end_time": "2023-08-18T10:44:18.021838100Z",
     "start_time": "2023-08-18T10:44:17.994908800Z"
    }
   },
   "outputs": [],
   "source": [
    "# del new_train['common_ts']\n",
    "# del new_test['common_ts']"
   ]
  },
  {
   "cell_type": "code",
   "execution_count": 9,
   "metadata": {
    "ExecuteTime": {
     "end_time": "2023-08-18T10:44:18.023830100Z",
     "start_time": "2023-08-18T10:44:18.011862500Z"
    }
   },
   "outputs": [],
   "source": []
  },
  {
   "cell_type": "code",
   "execution_count": 10,
   "outputs": [
    {
     "data": {
      "text/plain": "   uuid  eid                          udmap      common_ts  x1  x2  x3   x4  \\\n0     0   11                        unknown  1689594441029   4   1  41   85   \n1     1   35                        unknown  1689551329947   4   0  41   24   \n2     2   34  {\"key3\":\"73457\",\"key2\":\"936\"}  1688965066999   4   2  41   71   \n3     3    0               {\"key3\":\"18771\"}  1689308623754   1   0  41  104   \n4     4   26  {\"key3\":\"67804\",\"key2\":\"650\"}  1689516018904   0   1  41  115   \n\n    x5  x6  ...  key5  key6 key7 key8 key9      common_ts_datatime day  \\\n0  343   4  ...     0     0    0    0    0 2023-07-18 09:44:28.244  18   \n1  283   1  ...     0     0    0    0    0 2023-07-11 13:42:21.469  11   \n2  288   4  ...     0     0    0    0    0 2023-07-15 07:49:53.040  15   \n3   37   4  ...     0     0    0    0    0 2023-07-16 00:36:55.688  16   \n4  217   4  ...     0     0    0    0    0 2023-07-16 07:15:51.442  16   \n\n  weekday hour is_unknown  \n0       1    9          1  \n1       1   13          1  \n2       5    7          0  \n3       6    0          0  \n4       6    7          0  \n\n[5 rows x 26 columns]",
      "text/html": "<div>\n<style scoped>\n    .dataframe tbody tr th:only-of-type {\n        vertical-align: middle;\n    }\n\n    .dataframe tbody tr th {\n        vertical-align: top;\n    }\n\n    .dataframe thead th {\n        text-align: right;\n    }\n</style>\n<table border=\"1\" class=\"dataframe\">\n  <thead>\n    <tr style=\"text-align: right;\">\n      <th></th>\n      <th>uuid</th>\n      <th>eid</th>\n      <th>udmap</th>\n      <th>common_ts</th>\n      <th>x1</th>\n      <th>x2</th>\n      <th>x3</th>\n      <th>x4</th>\n      <th>x5</th>\n      <th>x6</th>\n      <th>...</th>\n      <th>key5</th>\n      <th>key6</th>\n      <th>key7</th>\n      <th>key8</th>\n      <th>key9</th>\n      <th>common_ts_datatime</th>\n      <th>day</th>\n      <th>weekday</th>\n      <th>hour</th>\n      <th>is_unknown</th>\n    </tr>\n  </thead>\n  <tbody>\n    <tr>\n      <th>0</th>\n      <td>0</td>\n      <td>11</td>\n      <td>unknown</td>\n      <td>1689594441029</td>\n      <td>4</td>\n      <td>1</td>\n      <td>41</td>\n      <td>85</td>\n      <td>343</td>\n      <td>4</td>\n      <td>...</td>\n      <td>0</td>\n      <td>0</td>\n      <td>0</td>\n      <td>0</td>\n      <td>0</td>\n      <td>2023-07-18 09:44:28.244</td>\n      <td>18</td>\n      <td>1</td>\n      <td>9</td>\n      <td>1</td>\n    </tr>\n    <tr>\n      <th>1</th>\n      <td>1</td>\n      <td>35</td>\n      <td>unknown</td>\n      <td>1689551329947</td>\n      <td>4</td>\n      <td>0</td>\n      <td>41</td>\n      <td>24</td>\n      <td>283</td>\n      <td>1</td>\n      <td>...</td>\n      <td>0</td>\n      <td>0</td>\n      <td>0</td>\n      <td>0</td>\n      <td>0</td>\n      <td>2023-07-11 13:42:21.469</td>\n      <td>11</td>\n      <td>1</td>\n      <td>13</td>\n      <td>1</td>\n    </tr>\n    <tr>\n      <th>2</th>\n      <td>2</td>\n      <td>34</td>\n      <td>{\"key3\":\"73457\",\"key2\":\"936\"}</td>\n      <td>1688965066999</td>\n      <td>4</td>\n      <td>2</td>\n      <td>41</td>\n      <td>71</td>\n      <td>288</td>\n      <td>4</td>\n      <td>...</td>\n      <td>0</td>\n      <td>0</td>\n      <td>0</td>\n      <td>0</td>\n      <td>0</td>\n      <td>2023-07-15 07:49:53.040</td>\n      <td>15</td>\n      <td>5</td>\n      <td>7</td>\n      <td>0</td>\n    </tr>\n    <tr>\n      <th>3</th>\n      <td>3</td>\n      <td>0</td>\n      <td>{\"key3\":\"18771\"}</td>\n      <td>1689308623754</td>\n      <td>1</td>\n      <td>0</td>\n      <td>41</td>\n      <td>104</td>\n      <td>37</td>\n      <td>4</td>\n      <td>...</td>\n      <td>0</td>\n      <td>0</td>\n      <td>0</td>\n      <td>0</td>\n      <td>0</td>\n      <td>2023-07-16 00:36:55.688</td>\n      <td>16</td>\n      <td>6</td>\n      <td>0</td>\n      <td>0</td>\n    </tr>\n    <tr>\n      <th>4</th>\n      <td>4</td>\n      <td>26</td>\n      <td>{\"key3\":\"67804\",\"key2\":\"650\"}</td>\n      <td>1689516018904</td>\n      <td>0</td>\n      <td>1</td>\n      <td>41</td>\n      <td>115</td>\n      <td>217</td>\n      <td>4</td>\n      <td>...</td>\n      <td>0</td>\n      <td>0</td>\n      <td>0</td>\n      <td>0</td>\n      <td>0</td>\n      <td>2023-07-16 07:15:51.442</td>\n      <td>16</td>\n      <td>6</td>\n      <td>7</td>\n      <td>0</td>\n    </tr>\n  </tbody>\n</table>\n<p>5 rows × 26 columns</p>\n</div>"
     },
     "execution_count": 10,
     "metadata": {},
     "output_type": "execute_result"
    }
   ],
   "source": [
    "new_test.head()"
   ],
   "metadata": {
    "collapsed": false,
    "ExecuteTime": {
     "end_time": "2023-08-18T10:44:18.077486300Z",
     "start_time": "2023-08-18T10:44:18.024827600Z"
    }
   }
  },
  {
   "cell_type": "code",
   "execution_count": 11,
   "metadata": {
    "ExecuteTime": {
     "end_time": "2023-08-18T10:44:18.415459700Z",
     "start_time": "2023-08-18T10:44:18.073497700Z"
    }
   },
   "outputs": [
    {
     "data": {
      "text/plain": "uuid                  0\neid                   0\nudmap                 0\ncommon_ts             0\nx1                    0\nx2                    0\nx3                    0\nx4                    0\nx5                    0\nx6                    0\nx7                    0\nx8                    0\nkey1                  0\nkey2                  0\nkey3                  0\nkey4                  0\nkey5                  0\nkey6                  0\nkey7                  0\nkey8                  0\nkey9                  0\ncommon_ts_datatime    0\nday                   0\nweekday               0\nhour                  0\nis_unknown            0\ndtype: int64"
     },
     "execution_count": 11,
     "metadata": {},
     "output_type": "execute_result"
    }
   ],
   "source": [
    "new_test.isnull().sum()"
   ]
  },
  {
   "cell_type": "code",
   "execution_count": 12,
   "metadata": {
    "ExecuteTime": {
     "end_time": "2023-08-18T10:44:24.618014700Z",
     "start_time": "2023-08-18T10:44:18.415459700Z"
    }
   },
   "outputs": [],
   "source": [
    "new_train.to_csv('input/new_train.csv', index = False)"
   ]
  },
  {
   "cell_type": "code",
   "execution_count": 13,
   "metadata": {
    "ExecuteTime": {
     "end_time": "2023-08-18T10:44:26.785528300Z",
     "start_time": "2023-08-18T10:44:24.619013200Z"
    }
   },
   "outputs": [],
   "source": [
    "new_test.to_csv('input/new_test.csv', index = False)"
   ]
  },
  {
   "cell_type": "code",
   "execution_count": 13,
   "metadata": {
    "ExecuteTime": {
     "end_time": "2023-08-18T10:44:26.801483300Z",
     "start_time": "2023-08-18T10:44:26.787555800Z"
    }
   },
   "outputs": [],
   "source": []
  }
 ],
 "metadata": {
  "kernelspec": {
   "display_name": "base",
   "language": "python",
   "name": "python3"
  },
  "language_info": {
   "codemirror_mode": {
    "name": "ipython",
    "version": 3
   },
   "file_extension": ".py",
   "mimetype": "text/x-python",
   "name": "python",
   "nbconvert_exporter": "python",
   "pygments_lexer": "ipython3",
   "version": "3.10.9"
  },
  "orig_nbformat": 4
 },
 "nbformat": 4,
 "nbformat_minor": 2
}
