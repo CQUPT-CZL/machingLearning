{
 "cells": [
  {
   "cell_type": "code",
   "execution_count": 1,
   "outputs": [],
   "source": [
    "import numpy as np\n",
    "import pandas as pd\n",
    "import matplotlib.pyplot as plt"
   ],
   "metadata": {
    "collapsed": false,
    "ExecuteTime": {
     "end_time": "2023-08-14T12:42:29.739694900Z",
     "start_time": "2023-08-14T12:42:28.486436700Z"
    }
   },
   "id": "initial_id"
  },
  {
   "cell_type": "code",
   "execution_count": 2,
   "outputs": [],
   "source": [
    "path = 'D:\\Code\\Python\\PythonLearning\\用户新增预测挑战赛\\input\\\\'\n",
    "train = pd.read_csv(path + 'new_train.csv')\n",
    "test = pd.read_csv(path + 'new_test.csv')"
   ],
   "metadata": {
    "collapsed": false,
    "ExecuteTime": {
     "end_time": "2023-08-14T12:42:32.382933500Z",
     "start_time": "2023-08-14T12:42:31.047773200Z"
    }
   },
   "id": "8d6b83e537604b37"
  },
  {
   "cell_type": "code",
   "execution_count": 3,
   "outputs": [
    {
     "data": {
      "text/plain": "   uuid  eid      common_ts  x1  x2  x3   x4   x5  x6  x7  ...  target  key1  \\\n0     0   26  1689673468244   4   0  41  107  206   1   0  ...       0     0   \n1     1   26  1689082941469   4   0  41   24  283   4   8  ...       0     0   \n2     2    8  1689407393040   4   0  41   71  288   4   7  ...       0     0   \n3     3   11  1689467815688   1   3  41   17  366   1   6  ...       0     0   \n4     4   26  1689491751442   0   3  41   92  383   4   8  ...       0     0   \n\n   key2   key3  key4  key5  key6  key7  key8  key9  \n0   650  67804     0     0     0     0     0     0  \n1   484  67804     0     0     0     0     0     0  \n2     0      0     0     0     0     0     0     0  \n3     0      0     0     0     0     0     0     0  \n4   650  67804     0     0     0     0     0     0  \n\n[5 rows x 21 columns]",
      "text/html": "<div>\n<style scoped>\n    .dataframe tbody tr th:only-of-type {\n        vertical-align: middle;\n    }\n\n    .dataframe tbody tr th {\n        vertical-align: top;\n    }\n\n    .dataframe thead th {\n        text-align: right;\n    }\n</style>\n<table border=\"1\" class=\"dataframe\">\n  <thead>\n    <tr style=\"text-align: right;\">\n      <th></th>\n      <th>uuid</th>\n      <th>eid</th>\n      <th>common_ts</th>\n      <th>x1</th>\n      <th>x2</th>\n      <th>x3</th>\n      <th>x4</th>\n      <th>x5</th>\n      <th>x6</th>\n      <th>x7</th>\n      <th>...</th>\n      <th>target</th>\n      <th>key1</th>\n      <th>key2</th>\n      <th>key3</th>\n      <th>key4</th>\n      <th>key5</th>\n      <th>key6</th>\n      <th>key7</th>\n      <th>key8</th>\n      <th>key9</th>\n    </tr>\n  </thead>\n  <tbody>\n    <tr>\n      <th>0</th>\n      <td>0</td>\n      <td>26</td>\n      <td>1689673468244</td>\n      <td>4</td>\n      <td>0</td>\n      <td>41</td>\n      <td>107</td>\n      <td>206</td>\n      <td>1</td>\n      <td>0</td>\n      <td>...</td>\n      <td>0</td>\n      <td>0</td>\n      <td>650</td>\n      <td>67804</td>\n      <td>0</td>\n      <td>0</td>\n      <td>0</td>\n      <td>0</td>\n      <td>0</td>\n      <td>0</td>\n    </tr>\n    <tr>\n      <th>1</th>\n      <td>1</td>\n      <td>26</td>\n      <td>1689082941469</td>\n      <td>4</td>\n      <td>0</td>\n      <td>41</td>\n      <td>24</td>\n      <td>283</td>\n      <td>4</td>\n      <td>8</td>\n      <td>...</td>\n      <td>0</td>\n      <td>0</td>\n      <td>484</td>\n      <td>67804</td>\n      <td>0</td>\n      <td>0</td>\n      <td>0</td>\n      <td>0</td>\n      <td>0</td>\n      <td>0</td>\n    </tr>\n    <tr>\n      <th>2</th>\n      <td>2</td>\n      <td>8</td>\n      <td>1689407393040</td>\n      <td>4</td>\n      <td>0</td>\n      <td>41</td>\n      <td>71</td>\n      <td>288</td>\n      <td>4</td>\n      <td>7</td>\n      <td>...</td>\n      <td>0</td>\n      <td>0</td>\n      <td>0</td>\n      <td>0</td>\n      <td>0</td>\n      <td>0</td>\n      <td>0</td>\n      <td>0</td>\n      <td>0</td>\n      <td>0</td>\n    </tr>\n    <tr>\n      <th>3</th>\n      <td>3</td>\n      <td>11</td>\n      <td>1689467815688</td>\n      <td>1</td>\n      <td>3</td>\n      <td>41</td>\n      <td>17</td>\n      <td>366</td>\n      <td>1</td>\n      <td>6</td>\n      <td>...</td>\n      <td>0</td>\n      <td>0</td>\n      <td>0</td>\n      <td>0</td>\n      <td>0</td>\n      <td>0</td>\n      <td>0</td>\n      <td>0</td>\n      <td>0</td>\n      <td>0</td>\n    </tr>\n    <tr>\n      <th>4</th>\n      <td>4</td>\n      <td>26</td>\n      <td>1689491751442</td>\n      <td>0</td>\n      <td>3</td>\n      <td>41</td>\n      <td>92</td>\n      <td>383</td>\n      <td>4</td>\n      <td>8</td>\n      <td>...</td>\n      <td>0</td>\n      <td>0</td>\n      <td>650</td>\n      <td>67804</td>\n      <td>0</td>\n      <td>0</td>\n      <td>0</td>\n      <td>0</td>\n      <td>0</td>\n      <td>0</td>\n    </tr>\n  </tbody>\n</table>\n<p>5 rows × 21 columns</p>\n</div>"
     },
     "execution_count": 3,
     "metadata": {},
     "output_type": "execute_result"
    }
   ],
   "source": [
    "train.head()"
   ],
   "metadata": {
    "collapsed": false,
    "ExecuteTime": {
     "end_time": "2023-08-14T12:42:34.572806100Z",
     "start_time": "2023-08-14T12:42:34.518963800Z"
    }
   },
   "id": "dcd7466043384447"
  },
  {
   "cell_type": "code",
   "execution_count": 6,
   "outputs": [],
   "source": [
    "train['common_ts_datetime'] = pd.to_datetime(train['common_ts'], unit='ms')\n",
    "test['common_ts_datetime'] = pd.to_datetime(test['common_ts'], unit='ms')"
   ],
   "metadata": {
    "collapsed": false,
    "ExecuteTime": {
     "end_time": "2023-08-14T12:51:28.284918Z",
     "start_time": "2023-08-14T12:51:28.243050700Z"
    }
   },
   "id": "99744238cb0a51a2"
  },
  {
   "cell_type": "code",
   "execution_count": 13,
   "outputs": [
    {
     "data": {
      "text/plain": "uuid                           int64\neid                            int64\ncommon_ts                      int64\nx1                             int64\nx2                             int64\nx3                             int64\nx4                             int64\nx5                             int64\nx6                             int64\nx7                             int64\nx8                             int64\ntarget                         int64\nkey1                           int64\nkey2                           int64\nkey3                           int64\nkey4                           int64\nkey5                           int64\nkey6                           int64\nkey7                           int64\nkey8                           int64\nkey9                           int64\ncommon_ts_datetime    datetime64[ns]\nday                            int64\nhour                           int64\ndtype: object"
     },
     "execution_count": 13,
     "metadata": {},
     "output_type": "execute_result"
    }
   ],
   "source": [
    "train.dtypes"
   ],
   "metadata": {
    "collapsed": false,
    "ExecuteTime": {
     "end_time": "2023-08-14T13:30:37.715327500Z",
     "start_time": "2023-08-14T13:30:37.692389400Z"
    }
   },
   "id": "d03186173d1babb0"
  },
  {
   "cell_type": "code",
   "execution_count": 11,
   "outputs": [],
   "source": [
    "train['day'] = train['common_ts_datetime'].dt.day\n",
    "train['hour'] = train['common_ts_datetime'].dt.hour"
   ],
   "metadata": {
    "collapsed": false,
    "ExecuteTime": {
     "end_time": "2023-08-14T13:30:25.243056Z",
     "start_time": "2023-08-14T13:30:25.133080200Z"
    }
   },
   "id": "9a6e24e20c394cd1"
  },
  {
   "cell_type": "code",
   "execution_count": 14,
   "outputs": [
    {
     "data": {
      "text/plain": "26    174811\n35     82643\n11     53698\n8      51591\n2      51071\n34     49500\n5      33127\n21     31316\n39     19504\n41     17539\n32      6742\n12      6145\n0       5355\n25      5274\n27      5210\n40      4065\n37      3578\n15      3071\n29      2374\n3       1951\n9       1584\n30      1480\n20      1463\n10      1185\n36       914\n33       855\n4        794\n1        736\n19       699\n13       684\n42       528\n28       278\n38       242\n14       210\n31       113\n7         11\n16         6\n23         3\n6          2\n22         1\n18         1\n17         1\n24         1\nName: eid, dtype: int64"
     },
     "execution_count": 14,
     "metadata": {},
     "output_type": "execute_result"
    }
   ],
   "source": [
    "train['eid'].value_counts()"
   ],
   "metadata": {
    "collapsed": false,
    "ExecuteTime": {
     "end_time": "2023-08-14T13:45:16.950508700Z",
     "start_time": "2023-08-14T13:45:16.937543500Z"
    }
   },
   "id": "49f3289e5f0d96db"
  },
  {
   "cell_type": "code",
   "execution_count": null,
   "outputs": [],
   "source": [],
   "metadata": {
    "collapsed": false
   },
   "id": "4d0d27f7f484d3de"
  }
 ],
 "metadata": {
  "kernelspec": {
   "display_name": "Python 3",
   "language": "python",
   "name": "python3"
  },
  "language_info": {
   "codemirror_mode": {
    "name": "ipython",
    "version": 2
   },
   "file_extension": ".py",
   "mimetype": "text/x-python",
   "name": "python",
   "nbconvert_exporter": "python",
   "pygments_lexer": "ipython2",
   "version": "2.7.6"
  }
 },
 "nbformat": 4,
 "nbformat_minor": 5
}
