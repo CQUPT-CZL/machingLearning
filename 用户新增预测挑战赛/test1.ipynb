{
 "cells": [
  {
   "cell_type": "code",
   "execution_count": 2,
   "outputs": [],
   "source": [
    "import numpy as np\n",
    "import pandas as pd"
   ],
   "metadata": {
    "collapsed": false,
    "ExecuteTime": {
     "end_time": "2023-08-12T13:52:33.833875400Z",
     "start_time": "2023-08-12T13:52:33.477324400Z"
    }
   },
   "id": "initial_id"
  },
  {
   "cell_type": "code",
   "execution_count": 3,
   "outputs": [],
   "source": [
    "path = 'D:\\Code\\Python\\PythonLearning\\用户新增预测挑战赛\\input\\\\'\n",
    "train = pd.read_csv(path + 'train.csv')\n",
    "test = pd.read_csv(path + 'test.csv')"
   ],
   "metadata": {
    "collapsed": false,
    "ExecuteTime": {
     "end_time": "2023-08-12T13:52:35.749583200Z",
     "start_time": "2023-08-12T13:52:34.877075Z"
    }
   },
   "id": "8d6b83e537604b37"
  },
  {
   "cell_type": "code",
   "execution_count": 4,
   "outputs": [
    {
     "data": {
      "text/plain": "   uuid  eid                          udmap      common_ts  x1  x2  x3   x4  \\\n0     0   26  {\"key3\":\"67804\",\"key2\":\"650\"}  1689673468244   4   0  41  107   \n1     1   26  {\"key3\":\"67804\",\"key2\":\"484\"}  1689082941469   4   0  41   24   \n2     2    8                        unknown  1689407393040   4   0  41   71   \n3     3   11                        unknown  1689467815688   1   3  41   17   \n4     4   26  {\"key3\":\"67804\",\"key2\":\"650\"}  1689491751442   0   3  41   92   \n\n    x5  x6  x7  x8  target  \n0  206   1   0   1       0  \n1  283   4   8   1       0  \n2  288   4   7   1       0  \n3  366   1   6   1       0  \n4  383   4   8   1       0  ",
      "text/html": "<div>\n<style scoped>\n    .dataframe tbody tr th:only-of-type {\n        vertical-align: middle;\n    }\n\n    .dataframe tbody tr th {\n        vertical-align: top;\n    }\n\n    .dataframe thead th {\n        text-align: right;\n    }\n</style>\n<table border=\"1\" class=\"dataframe\">\n  <thead>\n    <tr style=\"text-align: right;\">\n      <th></th>\n      <th>uuid</th>\n      <th>eid</th>\n      <th>udmap</th>\n      <th>common_ts</th>\n      <th>x1</th>\n      <th>x2</th>\n      <th>x3</th>\n      <th>x4</th>\n      <th>x5</th>\n      <th>x6</th>\n      <th>x7</th>\n      <th>x8</th>\n      <th>target</th>\n    </tr>\n  </thead>\n  <tbody>\n    <tr>\n      <th>0</th>\n      <td>0</td>\n      <td>26</td>\n      <td>{\"key3\":\"67804\",\"key2\":\"650\"}</td>\n      <td>1689673468244</td>\n      <td>4</td>\n      <td>0</td>\n      <td>41</td>\n      <td>107</td>\n      <td>206</td>\n      <td>1</td>\n      <td>0</td>\n      <td>1</td>\n      <td>0</td>\n    </tr>\n    <tr>\n      <th>1</th>\n      <td>1</td>\n      <td>26</td>\n      <td>{\"key3\":\"67804\",\"key2\":\"484\"}</td>\n      <td>1689082941469</td>\n      <td>4</td>\n      <td>0</td>\n      <td>41</td>\n      <td>24</td>\n      <td>283</td>\n      <td>4</td>\n      <td>8</td>\n      <td>1</td>\n      <td>0</td>\n    </tr>\n    <tr>\n      <th>2</th>\n      <td>2</td>\n      <td>8</td>\n      <td>unknown</td>\n      <td>1689407393040</td>\n      <td>4</td>\n      <td>0</td>\n      <td>41</td>\n      <td>71</td>\n      <td>288</td>\n      <td>4</td>\n      <td>7</td>\n      <td>1</td>\n      <td>0</td>\n    </tr>\n    <tr>\n      <th>3</th>\n      <td>3</td>\n      <td>11</td>\n      <td>unknown</td>\n      <td>1689467815688</td>\n      <td>1</td>\n      <td>3</td>\n      <td>41</td>\n      <td>17</td>\n      <td>366</td>\n      <td>1</td>\n      <td>6</td>\n      <td>1</td>\n      <td>0</td>\n    </tr>\n    <tr>\n      <th>4</th>\n      <td>4</td>\n      <td>26</td>\n      <td>{\"key3\":\"67804\",\"key2\":\"650\"}</td>\n      <td>1689491751442</td>\n      <td>0</td>\n      <td>3</td>\n      <td>41</td>\n      <td>92</td>\n      <td>383</td>\n      <td>4</td>\n      <td>8</td>\n      <td>1</td>\n      <td>0</td>\n    </tr>\n  </tbody>\n</table>\n</div>"
     },
     "execution_count": 4,
     "metadata": {},
     "output_type": "execute_result"
    }
   ],
   "source": [
    "train.head()"
   ],
   "metadata": {
    "collapsed": false,
    "ExecuteTime": {
     "end_time": "2023-08-12T13:52:40.695208100Z",
     "start_time": "2023-08-12T13:52:40.663930100Z"
    }
   },
   "id": "dcd7466043384447"
  },
  {
   "cell_type": "code",
   "execution_count": null,
   "outputs": [],
   "source": [],
   "metadata": {
    "collapsed": false
   },
   "id": "2373988c0276729a"
  }
 ],
 "metadata": {
  "kernelspec": {
   "display_name": "Python 3",
   "language": "python",
   "name": "python3"
  },
  "language_info": {
   "codemirror_mode": {
    "name": "ipython",
    "version": 2
   },
   "file_extension": ".py",
   "mimetype": "text/x-python",
   "name": "python",
   "nbconvert_exporter": "python",
   "pygments_lexer": "ipython2",
   "version": "2.7.6"
  }
 },
 "nbformat": 4,
 "nbformat_minor": 5
}
