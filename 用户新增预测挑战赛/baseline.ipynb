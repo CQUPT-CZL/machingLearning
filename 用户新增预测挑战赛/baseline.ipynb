{
 "cells": [
  {
   "cell_type": "code",
   "execution_count": 1,
   "id": "initial_id",
   "metadata": {
    "collapsed": true,
    "ExecuteTime": {
     "end_time": "2023-08-18T12:24:33.755850700Z",
     "start_time": "2023-08-18T12:24:31.694018100Z"
    }
   },
   "outputs": [],
   "source": [
    "from sklearn.tree import DecisionTreeClassifier\n",
    "import pandas as pd"
   ]
  },
  {
   "cell_type": "code",
   "execution_count": 2,
   "outputs": [],
   "source": [
    "path = 'D:\\Code\\Python\\PythonLearning\\用户新增预测挑战赛\\input\\\\'\n",
    "train = pd.read_csv(path + 'new_train.csv')\n",
    "test = pd.read_csv(path + 'new_test.csv')"
   ],
   "metadata": {
    "collapsed": false,
    "ExecuteTime": {
     "end_time": "2023-08-18T12:25:50.877849200Z",
     "start_time": "2023-08-18T12:25:48.335831200Z"
    }
   },
   "id": "338341758ec04160"
  },
  {
   "cell_type": "code",
   "execution_count": 3,
   "outputs": [
    {
     "data": {
      "text/plain": "   uuid  eid                          udmap      common_ts  x1  x2  x3   x4  \\\n0     0   26  {\"key3\":\"67804\",\"key2\":\"650\"}  1689673468244   4   0  41  107   \n1     1   26  {\"key3\":\"67804\",\"key2\":\"484\"}  1689082941469   4   0  41   24   \n2     2    8                        unknown  1689407393040   4   0  41   71   \n3     3   11                        unknown  1689467815688   1   3  41   17   \n4     4   26  {\"key3\":\"67804\",\"key2\":\"650\"}  1689491751442   0   3  41   92   \n\n    x5  x6  ...  key5  key6  key7  key8  key9       common_ts_datatime  day  \\\n0  206   1  ...     0     0     0     0     0  2023-07-18 09:44:28.244   18   \n1  283   4  ...     0     0     0     0     0  2023-07-11 13:42:21.469   11   \n2  288   4  ...     0     0     0     0     0  2023-07-15 07:49:53.040   15   \n3  366   1  ...     0     0     0     0     0  2023-07-16 00:36:55.688   16   \n4  383   4  ...     0     0     0     0     0  2023-07-16 07:15:51.442   16   \n\n   weekday  hour  is_unknown  \n0        1     9           0  \n1        1    13           0  \n2        5     7           1  \n3        6     0           1  \n4        6     7           0  \n\n[5 rows x 27 columns]",
      "text/html": "<div>\n<style scoped>\n    .dataframe tbody tr th:only-of-type {\n        vertical-align: middle;\n    }\n\n    .dataframe tbody tr th {\n        vertical-align: top;\n    }\n\n    .dataframe thead th {\n        text-align: right;\n    }\n</style>\n<table border=\"1\" class=\"dataframe\">\n  <thead>\n    <tr style=\"text-align: right;\">\n      <th></th>\n      <th>uuid</th>\n      <th>eid</th>\n      <th>udmap</th>\n      <th>common_ts</th>\n      <th>x1</th>\n      <th>x2</th>\n      <th>x3</th>\n      <th>x4</th>\n      <th>x5</th>\n      <th>x6</th>\n      <th>...</th>\n      <th>key5</th>\n      <th>key6</th>\n      <th>key7</th>\n      <th>key8</th>\n      <th>key9</th>\n      <th>common_ts_datatime</th>\n      <th>day</th>\n      <th>weekday</th>\n      <th>hour</th>\n      <th>is_unknown</th>\n    </tr>\n  </thead>\n  <tbody>\n    <tr>\n      <th>0</th>\n      <td>0</td>\n      <td>26</td>\n      <td>{\"key3\":\"67804\",\"key2\":\"650\"}</td>\n      <td>1689673468244</td>\n      <td>4</td>\n      <td>0</td>\n      <td>41</td>\n      <td>107</td>\n      <td>206</td>\n      <td>1</td>\n      <td>...</td>\n      <td>0</td>\n      <td>0</td>\n      <td>0</td>\n      <td>0</td>\n      <td>0</td>\n      <td>2023-07-18 09:44:28.244</td>\n      <td>18</td>\n      <td>1</td>\n      <td>9</td>\n      <td>0</td>\n    </tr>\n    <tr>\n      <th>1</th>\n      <td>1</td>\n      <td>26</td>\n      <td>{\"key3\":\"67804\",\"key2\":\"484\"}</td>\n      <td>1689082941469</td>\n      <td>4</td>\n      <td>0</td>\n      <td>41</td>\n      <td>24</td>\n      <td>283</td>\n      <td>4</td>\n      <td>...</td>\n      <td>0</td>\n      <td>0</td>\n      <td>0</td>\n      <td>0</td>\n      <td>0</td>\n      <td>2023-07-11 13:42:21.469</td>\n      <td>11</td>\n      <td>1</td>\n      <td>13</td>\n      <td>0</td>\n    </tr>\n    <tr>\n      <th>2</th>\n      <td>2</td>\n      <td>8</td>\n      <td>unknown</td>\n      <td>1689407393040</td>\n      <td>4</td>\n      <td>0</td>\n      <td>41</td>\n      <td>71</td>\n      <td>288</td>\n      <td>4</td>\n      <td>...</td>\n      <td>0</td>\n      <td>0</td>\n      <td>0</td>\n      <td>0</td>\n      <td>0</td>\n      <td>2023-07-15 07:49:53.040</td>\n      <td>15</td>\n      <td>5</td>\n      <td>7</td>\n      <td>1</td>\n    </tr>\n    <tr>\n      <th>3</th>\n      <td>3</td>\n      <td>11</td>\n      <td>unknown</td>\n      <td>1689467815688</td>\n      <td>1</td>\n      <td>3</td>\n      <td>41</td>\n      <td>17</td>\n      <td>366</td>\n      <td>1</td>\n      <td>...</td>\n      <td>0</td>\n      <td>0</td>\n      <td>0</td>\n      <td>0</td>\n      <td>0</td>\n      <td>2023-07-16 00:36:55.688</td>\n      <td>16</td>\n      <td>6</td>\n      <td>0</td>\n      <td>1</td>\n    </tr>\n    <tr>\n      <th>4</th>\n      <td>4</td>\n      <td>26</td>\n      <td>{\"key3\":\"67804\",\"key2\":\"650\"}</td>\n      <td>1689491751442</td>\n      <td>0</td>\n      <td>3</td>\n      <td>41</td>\n      <td>92</td>\n      <td>383</td>\n      <td>4</td>\n      <td>...</td>\n      <td>0</td>\n      <td>0</td>\n      <td>0</td>\n      <td>0</td>\n      <td>0</td>\n      <td>2023-07-16 07:15:51.442</td>\n      <td>16</td>\n      <td>6</td>\n      <td>7</td>\n      <td>0</td>\n    </tr>\n  </tbody>\n</table>\n<p>5 rows × 27 columns</p>\n</div>"
     },
     "execution_count": 3,
     "metadata": {},
     "output_type": "execute_result"
    }
   ],
   "source": [
    "train.head()"
   ],
   "metadata": {
    "collapsed": false,
    "ExecuteTime": {
     "end_time": "2023-08-18T12:26:30.532170100Z",
     "start_time": "2023-08-18T12:26:30.508236300Z"
    }
   },
   "id": "8c1c3cff65c0e461"
  },
  {
   "cell_type": "code",
   "execution_count": 4,
   "outputs": [
    {
     "data": {
      "text/plain": "   uuid  eid                          udmap      common_ts  x1  x2  x3   x4  \\\n0     0   11                        unknown  1689594441029   4   1  41   85   \n1     1   35                        unknown  1689551329947   4   0  41   24   \n2     2   34  {\"key3\":\"73457\",\"key2\":\"936\"}  1688965066999   4   2  41   71   \n3     3    0               {\"key3\":\"18771\"}  1689308623754   1   0  41  104   \n4     4   26  {\"key3\":\"67804\",\"key2\":\"650\"}  1689516018904   0   1  41  115   \n\n    x5  x6  ...  key5  key6  key7  key8  key9       common_ts_datatime  day  \\\n0  343   4  ...     0     0     0     0     0  2023-07-18 09:44:28.244   18   \n1  283   1  ...     0     0     0     0     0  2023-07-11 13:42:21.469   11   \n2  288   4  ...     0     0     0     0     0  2023-07-15 07:49:53.040   15   \n3   37   4  ...     0     0     0     0     0  2023-07-16 00:36:55.688   16   \n4  217   4  ...     0     0     0     0     0  2023-07-16 07:15:51.442   16   \n\n   weekday  hour  is_unknown  \n0        1     9           1  \n1        1    13           1  \n2        5     7           0  \n3        6     0           0  \n4        6     7           0  \n\n[5 rows x 26 columns]",
      "text/html": "<div>\n<style scoped>\n    .dataframe tbody tr th:only-of-type {\n        vertical-align: middle;\n    }\n\n    .dataframe tbody tr th {\n        vertical-align: top;\n    }\n\n    .dataframe thead th {\n        text-align: right;\n    }\n</style>\n<table border=\"1\" class=\"dataframe\">\n  <thead>\n    <tr style=\"text-align: right;\">\n      <th></th>\n      <th>uuid</th>\n      <th>eid</th>\n      <th>udmap</th>\n      <th>common_ts</th>\n      <th>x1</th>\n      <th>x2</th>\n      <th>x3</th>\n      <th>x4</th>\n      <th>x5</th>\n      <th>x6</th>\n      <th>...</th>\n      <th>key5</th>\n      <th>key6</th>\n      <th>key7</th>\n      <th>key8</th>\n      <th>key9</th>\n      <th>common_ts_datatime</th>\n      <th>day</th>\n      <th>weekday</th>\n      <th>hour</th>\n      <th>is_unknown</th>\n    </tr>\n  </thead>\n  <tbody>\n    <tr>\n      <th>0</th>\n      <td>0</td>\n      <td>11</td>\n      <td>unknown</td>\n      <td>1689594441029</td>\n      <td>4</td>\n      <td>1</td>\n      <td>41</td>\n      <td>85</td>\n      <td>343</td>\n      <td>4</td>\n      <td>...</td>\n      <td>0</td>\n      <td>0</td>\n      <td>0</td>\n      <td>0</td>\n      <td>0</td>\n      <td>2023-07-18 09:44:28.244</td>\n      <td>18</td>\n      <td>1</td>\n      <td>9</td>\n      <td>1</td>\n    </tr>\n    <tr>\n      <th>1</th>\n      <td>1</td>\n      <td>35</td>\n      <td>unknown</td>\n      <td>1689551329947</td>\n      <td>4</td>\n      <td>0</td>\n      <td>41</td>\n      <td>24</td>\n      <td>283</td>\n      <td>1</td>\n      <td>...</td>\n      <td>0</td>\n      <td>0</td>\n      <td>0</td>\n      <td>0</td>\n      <td>0</td>\n      <td>2023-07-11 13:42:21.469</td>\n      <td>11</td>\n      <td>1</td>\n      <td>13</td>\n      <td>1</td>\n    </tr>\n    <tr>\n      <th>2</th>\n      <td>2</td>\n      <td>34</td>\n      <td>{\"key3\":\"73457\",\"key2\":\"936\"}</td>\n      <td>1688965066999</td>\n      <td>4</td>\n      <td>2</td>\n      <td>41</td>\n      <td>71</td>\n      <td>288</td>\n      <td>4</td>\n      <td>...</td>\n      <td>0</td>\n      <td>0</td>\n      <td>0</td>\n      <td>0</td>\n      <td>0</td>\n      <td>2023-07-15 07:49:53.040</td>\n      <td>15</td>\n      <td>5</td>\n      <td>7</td>\n      <td>0</td>\n    </tr>\n    <tr>\n      <th>3</th>\n      <td>3</td>\n      <td>0</td>\n      <td>{\"key3\":\"18771\"}</td>\n      <td>1689308623754</td>\n      <td>1</td>\n      <td>0</td>\n      <td>41</td>\n      <td>104</td>\n      <td>37</td>\n      <td>4</td>\n      <td>...</td>\n      <td>0</td>\n      <td>0</td>\n      <td>0</td>\n      <td>0</td>\n      <td>0</td>\n      <td>2023-07-16 00:36:55.688</td>\n      <td>16</td>\n      <td>6</td>\n      <td>0</td>\n      <td>0</td>\n    </tr>\n    <tr>\n      <th>4</th>\n      <td>4</td>\n      <td>26</td>\n      <td>{\"key3\":\"67804\",\"key2\":\"650\"}</td>\n      <td>1689516018904</td>\n      <td>0</td>\n      <td>1</td>\n      <td>41</td>\n      <td>115</td>\n      <td>217</td>\n      <td>4</td>\n      <td>...</td>\n      <td>0</td>\n      <td>0</td>\n      <td>0</td>\n      <td>0</td>\n      <td>0</td>\n      <td>2023-07-16 07:15:51.442</td>\n      <td>16</td>\n      <td>6</td>\n      <td>7</td>\n      <td>0</td>\n    </tr>\n  </tbody>\n</table>\n<p>5 rows × 26 columns</p>\n</div>"
     },
     "execution_count": 4,
     "metadata": {},
     "output_type": "execute_result"
    }
   ],
   "source": [
    "test.head()"
   ],
   "metadata": {
    "collapsed": false,
    "ExecuteTime": {
     "end_time": "2023-08-18T12:26:36.025770500Z",
     "start_time": "2023-08-18T12:26:35.984878700Z"
    }
   },
   "id": "9cc3095ae82d181d"
  },
  {
   "cell_type": "code",
   "execution_count": 5,
   "outputs": [
    {
     "data": {
      "text/plain": "DecisionTreeClassifier()",
      "text/html": "<style>#sk-container-id-1 {color: black;background-color: white;}#sk-container-id-1 pre{padding: 0;}#sk-container-id-1 div.sk-toggleable {background-color: white;}#sk-container-id-1 label.sk-toggleable__label {cursor: pointer;display: block;width: 100%;margin-bottom: 0;padding: 0.3em;box-sizing: border-box;text-align: center;}#sk-container-id-1 label.sk-toggleable__label-arrow:before {content: \"▸\";float: left;margin-right: 0.25em;color: #696969;}#sk-container-id-1 label.sk-toggleable__label-arrow:hover:before {color: black;}#sk-container-id-1 div.sk-estimator:hover label.sk-toggleable__label-arrow:before {color: black;}#sk-container-id-1 div.sk-toggleable__content {max-height: 0;max-width: 0;overflow: hidden;text-align: left;background-color: #f0f8ff;}#sk-container-id-1 div.sk-toggleable__content pre {margin: 0.2em;color: black;border-radius: 0.25em;background-color: #f0f8ff;}#sk-container-id-1 input.sk-toggleable__control:checked~div.sk-toggleable__content {max-height: 200px;max-width: 100%;overflow: auto;}#sk-container-id-1 input.sk-toggleable__control:checked~label.sk-toggleable__label-arrow:before {content: \"▾\";}#sk-container-id-1 div.sk-estimator input.sk-toggleable__control:checked~label.sk-toggleable__label {background-color: #d4ebff;}#sk-container-id-1 div.sk-label input.sk-toggleable__control:checked~label.sk-toggleable__label {background-color: #d4ebff;}#sk-container-id-1 input.sk-hidden--visually {border: 0;clip: rect(1px 1px 1px 1px);clip: rect(1px, 1px, 1px, 1px);height: 1px;margin: -1px;overflow: hidden;padding: 0;position: absolute;width: 1px;}#sk-container-id-1 div.sk-estimator {font-family: monospace;background-color: #f0f8ff;border: 1px dotted black;border-radius: 0.25em;box-sizing: border-box;margin-bottom: 0.5em;}#sk-container-id-1 div.sk-estimator:hover {background-color: #d4ebff;}#sk-container-id-1 div.sk-parallel-item::after {content: \"\";width: 100%;border-bottom: 1px solid gray;flex-grow: 1;}#sk-container-id-1 div.sk-label:hover label.sk-toggleable__label {background-color: #d4ebff;}#sk-container-id-1 div.sk-serial::before {content: \"\";position: absolute;border-left: 1px solid gray;box-sizing: border-box;top: 0;bottom: 0;left: 50%;z-index: 0;}#sk-container-id-1 div.sk-serial {display: flex;flex-direction: column;align-items: center;background-color: white;padding-right: 0.2em;padding-left: 0.2em;position: relative;}#sk-container-id-1 div.sk-item {position: relative;z-index: 1;}#sk-container-id-1 div.sk-parallel {display: flex;align-items: stretch;justify-content: center;background-color: white;position: relative;}#sk-container-id-1 div.sk-item::before, #sk-container-id-1 div.sk-parallel-item::before {content: \"\";position: absolute;border-left: 1px solid gray;box-sizing: border-box;top: 0;bottom: 0;left: 50%;z-index: -1;}#sk-container-id-1 div.sk-parallel-item {display: flex;flex-direction: column;z-index: 1;position: relative;background-color: white;}#sk-container-id-1 div.sk-parallel-item:first-child::after {align-self: flex-end;width: 50%;}#sk-container-id-1 div.sk-parallel-item:last-child::after {align-self: flex-start;width: 50%;}#sk-container-id-1 div.sk-parallel-item:only-child::after {width: 0;}#sk-container-id-1 div.sk-dashed-wrapped {border: 1px dashed gray;margin: 0 0.4em 0.5em 0.4em;box-sizing: border-box;padding-bottom: 0.4em;background-color: white;}#sk-container-id-1 div.sk-label label {font-family: monospace;font-weight: bold;display: inline-block;line-height: 1.2em;}#sk-container-id-1 div.sk-label-container {text-align: center;}#sk-container-id-1 div.sk-container {/* jupyter's `normalize.less` sets `[hidden] { display: none; }` but bootstrap.min.css set `[hidden] { display: none !important; }` so we also need the `!important` here to be able to override the default hidden behavior on the sphinx rendered scikit-learn.org. See: https://github.com/scikit-learn/scikit-learn/issues/21755 */display: inline-block !important;position: relative;}#sk-container-id-1 div.sk-text-repr-fallback {display: none;}</style><div id=\"sk-container-id-1\" class=\"sk-top-container\"><div class=\"sk-text-repr-fallback\"><pre>DecisionTreeClassifier()</pre><b>In a Jupyter environment, please rerun this cell to show the HTML representation or trust the notebook. <br />On GitHub, the HTML representation is unable to render, please try loading this page with nbviewer.org.</b></div><div class=\"sk-container\" hidden><div class=\"sk-item\"><div class=\"sk-estimator sk-toggleable\"><input class=\"sk-toggleable__control sk-hidden--visually\" id=\"sk-estimator-id-1\" type=\"checkbox\" checked><label for=\"sk-estimator-id-1\" class=\"sk-toggleable__label sk-toggleable__label-arrow\">DecisionTreeClassifier</label><div class=\"sk-toggleable__content\"><pre>DecisionTreeClassifier()</pre></div></div></div></div></div>"
     },
     "execution_count": 5,
     "metadata": {},
     "output_type": "execute_result"
    }
   ],
   "source": [
    "clf = DecisionTreeClassifier()\n",
    "clf.fit(\n",
    "    train.drop(['udmap', 'common_ts', 'uuid', 'target', 'common_ts_datatime'], axis=1),\n",
    "    train['target']\n",
    ")"
   ],
   "metadata": {
    "collapsed": false,
    "ExecuteTime": {
     "end_time": "2023-08-18T12:29:10.548069500Z",
     "start_time": "2023-08-18T12:29:05.384204900Z"
    }
   },
   "id": "deab689aa46df285"
  },
  {
   "cell_type": "code",
   "execution_count": 6,
   "outputs": [],
   "source": [
    "pd.DataFrame({\n",
    "    'uuid': test['uuid'],\n",
    "    'target': clf.predict(test.drop(['udmap', 'common_ts', 'uuid', 'common_ts_datatime'], axis=1))\n",
    "}).to_csv('submit.csv', index=False)"
   ],
   "metadata": {
    "collapsed": false,
    "ExecuteTime": {
     "end_time": "2023-08-18T12:29:52.177250500Z",
     "start_time": "2023-08-18T12:29:51.799390300Z"
    }
   },
   "id": "a359d584ee5e1d97"
  },
  {
   "cell_type": "code",
   "execution_count": null,
   "outputs": [],
   "source": [],
   "metadata": {
    "collapsed": false
   },
   "id": "af720262088db7b3"
  }
 ],
 "metadata": {
  "kernelspec": {
   "display_name": "Python 3",
   "language": "python",
   "name": "python3"
  },
  "language_info": {
   "codemirror_mode": {
    "name": "ipython",
    "version": 2
   },
   "file_extension": ".py",
   "mimetype": "text/x-python",
   "name": "python",
   "nbconvert_exporter": "python",
   "pygments_lexer": "ipython2",
   "version": "2.7.6"
  }
 },
 "nbformat": 4,
 "nbformat_minor": 5
}
